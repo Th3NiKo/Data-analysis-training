{
  "nbformat": 4,
  "nbformat_minor": 0,
  "metadata": {
    "colab": {
      "name": "Cars price prediction random forest.ipynb",
      "provenance": []
    },
    "kernelspec": {
      "name": "python3",
      "display_name": "Python 3"
    }
  },
  "cells": [
    {
      "cell_type": "code",
      "metadata": {
        "colab": {
          "base_uri": "https://localhost:8080/"
        },
        "id": "bVK3AEOhbR1L",
        "outputId": "d17e9c99-61cc-4bfa-e792-d0395386747a"
      },
      "source": [
        "#Download data\r\n",
        "!git clone git://gonito.net/auta"
      ],
      "execution_count": 1,
      "outputs": [
        {
          "output_type": "stream",
          "text": [
            "Cloning into 'auta'...\n",
            "remote: Wymienianie obiektów: 385, gotowe.\u001b[K\n",
            "remote: Zliczanie obiektów: 100% (385/385), gotowe.\u001b[K\n",
            "remote: Kompresowanie obiektów: 100% (374/374), gotowe.\u001b[K\n",
            "remote: Razem 385 (delty 112), użyte ponownie 0 (delty 0), paczki użyte ponownie 0\n",
            "Receiving objects: 100% (385/385), 1.93 MiB | 1.71 MiB/s, done.\n",
            "Resolving deltas: 100% (112/112), done.\n"
          ],
          "name": "stdout"
        }
      ]
    },
    {
      "cell_type": "code",
      "metadata": {
        "id": "-IVu-Hfna56y"
      },
      "source": [
        "#Import libraries\r\n",
        "import pandas as pd\r\n",
        "import numpy as np\r\n",
        "import math\r\n",
        "from sklearn.metrics import mean_squared_error, accuracy_score\r\n",
        "import matplotlib.pyplot as plt\r\n",
        "from sklearn.ensemble import RandomForestRegressor\r\n",
        "from scipy import stats"
      ],
      "execution_count": 6,
      "outputs": []
    },
    {
      "cell_type": "code",
      "metadata": {
        "id": "onn4lvoubj7P"
      },
      "source": [
        "#Helper functions\r\n",
        "def AddMissingColumn(test,train):\r\n",
        "  '''Match number of columns between datasets'''\r\n",
        "  train_objs_num = len(train)\r\n",
        "  dataset = pd.concat(objs=[train, test], axis=0,sort=False)\r\n",
        "  dataset_preprocessed = pd.get_dummies(dataset)\r\n",
        "  test_preprocessed = dataset_preprocessed[train_objs_num:]\r\n",
        "  return test_preprocessed\r\n",
        "\r\n",
        "def CrossValidation(X,Y):\r\n",
        "  '''Get precise accuracy regardless of dataset random split'''\r\n",
        "  k_fold = KFold(n_splits=10, shuffle=False, random_state=0)\r\n",
        "  scoring = 'accuracy'\r\n",
        "  score = cross_val_score(regresion, X, Y, cv=k_fold, n_jobs=1, scoring=scoring)\r\n",
        "  for value in score:\r\n",
        "    print(\"%.3f\" % value, end=\" \")\r\n",
        "  print(sum(score) / len(score))"
      ],
      "execution_count": 3,
      "outputs": []
    },
    {
      "cell_type": "code",
      "metadata": {
        "id": "86so-tHIcqCs"
      },
      "source": [
        "#Load data\r\n",
        "folder_path = \"/content/auta/\"\r\n",
        "trainData = pd.read_csv(folder_path + 'train/train.tsv', sep='\\t',names=['price',\t'mileage', 'year',\t'brand', 'engineType', 'engineCapacity'])\r\n",
        "devDataInput = pd.read_csv(folder_path +'dev-0/in.tsv', sep='\\t',header=None)\r\n",
        "devDataOutput = pd.read_csv(folder_path +'dev-0/expected.tsv', sep='\\t',header=None)\r\n",
        "testDataInput = pd.read_csv(folder_path +'test-A/in.tsv', sep='\\t', header=None)"
      ],
      "execution_count": 95,
      "outputs": []
    },
    {
      "cell_type": "code",
      "metadata": {
        "colab": {
          "base_uri": "https://localhost:8080/",
          "height": 142
        },
        "id": "8S7ZvTIjefjX",
        "outputId": "3f84eedb-4f24-4289-9615-fb8afacadb3e"
      },
      "source": [
        "trainData.sample(3)"
      ],
      "execution_count": 96,
      "outputs": [
        {
          "output_type": "execute_result",
          "data": {
            "text/html": [
              "<div>\n",
              "<style scoped>\n",
              "    .dataframe tbody tr th:only-of-type {\n",
              "        vertical-align: middle;\n",
              "    }\n",
              "\n",
              "    .dataframe tbody tr th {\n",
              "        vertical-align: top;\n",
              "    }\n",
              "\n",
              "    .dataframe thead th {\n",
              "        text-align: right;\n",
              "    }\n",
              "</style>\n",
              "<table border=\"1\" class=\"dataframe\">\n",
              "  <thead>\n",
              "    <tr style=\"text-align: right;\">\n",
              "      <th></th>\n",
              "      <th>price</th>\n",
              "      <th>mileage</th>\n",
              "      <th>year</th>\n",
              "      <th>brand</th>\n",
              "      <th>engineType</th>\n",
              "      <th>engineCapacity</th>\n",
              "    </tr>\n",
              "  </thead>\n",
              "  <tbody>\n",
              "    <tr>\n",
              "      <th>2055</th>\n",
              "      <td>31900</td>\n",
              "      <td>128139</td>\n",
              "      <td>2013</td>\n",
              "      <td>Ford</td>\n",
              "      <td>diesel</td>\n",
              "      <td>1600</td>\n",
              "    </tr>\n",
              "    <tr>\n",
              "      <th>17020</th>\n",
              "      <td>23900</td>\n",
              "      <td>165000</td>\n",
              "      <td>2010</td>\n",
              "      <td>Ford</td>\n",
              "      <td>diesel</td>\n",
              "      <td>1800</td>\n",
              "    </tr>\n",
              "    <tr>\n",
              "      <th>18561</th>\n",
              "      <td>34800</td>\n",
              "      <td>307000</td>\n",
              "      <td>2006</td>\n",
              "      <td>Mercedes-Benz</td>\n",
              "      <td>diesel</td>\n",
              "      <td>3000</td>\n",
              "    </tr>\n",
              "  </tbody>\n",
              "</table>\n",
              "</div>"
            ],
            "text/plain": [
              "       price  mileage  year          brand engineType  engineCapacity\n",
              "2055   31900   128139  2013           Ford     diesel            1600\n",
              "17020  23900   165000  2010           Ford     diesel            1800\n",
              "18561  34800   307000  2006  Mercedes-Benz     diesel            3000"
            ]
          },
          "metadata": {
            "tags": []
          },
          "execution_count": 96
        }
      ]
    },
    {
      "cell_type": "code",
      "metadata": {
        "colab": {
          "base_uri": "https://localhost:8080/"
        },
        "id": "pQuJBUdfgjPq",
        "outputId": "7b31ea7f-fa97-4ebd-c582-a37cabbafa55"
      },
      "source": [
        "trainData.info()"
      ],
      "execution_count": 97,
      "outputs": [
        {
          "output_type": "stream",
          "text": [
            "<class 'pandas.core.frame.DataFrame'>\n",
            "RangeIndex: 48002 entries, 0 to 48001\n",
            "Data columns (total 6 columns):\n",
            " #   Column          Non-Null Count  Dtype \n",
            "---  ------          --------------  ----- \n",
            " 0   price           48002 non-null  int64 \n",
            " 1   mileage         48002 non-null  int64 \n",
            " 2   year            48002 non-null  int64 \n",
            " 3   brand           48002 non-null  object\n",
            " 4   engineType      48002 non-null  object\n",
            " 5   engineCapacity  48002 non-null  int64 \n",
            "dtypes: int64(4), object(2)\n",
            "memory usage: 2.2+ MB\n"
          ],
          "name": "stdout"
        }
      ]
    },
    {
      "cell_type": "code",
      "metadata": {
        "colab": {
          "base_uri": "https://localhost:8080/",
          "height": 111
        },
        "id": "-p-rQHzVgqRL",
        "outputId": "7275ef00-1c18-41e2-f4a1-cefa21878c2d"
      },
      "source": [
        "trainData.describe()[0:2]"
      ],
      "execution_count": 98,
      "outputs": [
        {
          "output_type": "execute_result",
          "data": {
            "text/html": [
              "<div>\n",
              "<style scoped>\n",
              "    .dataframe tbody tr th:only-of-type {\n",
              "        vertical-align: middle;\n",
              "    }\n",
              "\n",
              "    .dataframe tbody tr th {\n",
              "        vertical-align: top;\n",
              "    }\n",
              "\n",
              "    .dataframe thead th {\n",
              "        text-align: right;\n",
              "    }\n",
              "</style>\n",
              "<table border=\"1\" class=\"dataframe\">\n",
              "  <thead>\n",
              "    <tr style=\"text-align: right;\">\n",
              "      <th></th>\n",
              "      <th>price</th>\n",
              "      <th>mileage</th>\n",
              "      <th>year</th>\n",
              "      <th>engineCapacity</th>\n",
              "    </tr>\n",
              "  </thead>\n",
              "  <tbody>\n",
              "    <tr>\n",
              "      <th>count</th>\n",
              "      <td>48002.000000</td>\n",
              "      <td>48002.000000</td>\n",
              "      <td>48002.000000</td>\n",
              "      <td>48002.000000</td>\n",
              "    </tr>\n",
              "    <tr>\n",
              "      <th>mean</th>\n",
              "      <td>37803.583809</td>\n",
              "      <td>142920.244156</td>\n",
              "      <td>2008.351298</td>\n",
              "      <td>1818.395942</td>\n",
              "    </tr>\n",
              "  </tbody>\n",
              "</table>\n",
              "</div>"
            ],
            "text/plain": [
              "              price        mileage          year  engineCapacity\n",
              "count  48002.000000   48002.000000  48002.000000    48002.000000\n",
              "mean   37803.583809  142920.244156   2008.351298     1818.395942"
            ]
          },
          "metadata": {
            "tags": []
          },
          "execution_count": 98
        }
      ]
    },
    {
      "cell_type": "code",
      "metadata": {
        "id": "4cfZFtxofkEf"
      },
      "source": [
        "dataToClean = [trainData, devDataInput, testDataInput]"
      ],
      "execution_count": 99,
      "outputs": []
    },
    {
      "cell_type": "code",
      "metadata": {
        "colab": {
          "base_uri": "https://localhost:8080/"
        },
        "id": "d-xm9eewes5n",
        "outputId": "61a3addb-06f7-4558-adf8-ec419e003b89"
      },
      "source": [
        "#Are there any nan data?\r\n",
        "for data in dataToClean:\r\n",
        "  print(data.isna().sum().sum())"
      ],
      "execution_count": 100,
      "outputs": [
        {
          "output_type": "stream",
          "text": [
            "0\n",
            "0\n",
            "0\n"
          ],
          "name": "stdout"
        }
      ]
    },
    {
      "cell_type": "code",
      "metadata": {
        "id": "Kgrjkg6Cc3UY"
      },
      "source": [
        "#Set same column names between datasets\r\n",
        "devDataInput.columns=trainData.columns[1:]\r\n",
        "testDataInput.columns=trainData.columns[1:]"
      ],
      "execution_count": 101,
      "outputs": []
    },
    {
      "cell_type": "code",
      "metadata": {
        "id": "3_bf7BVkkP5-"
      },
      "source": [
        "#Choose which data to use as regression\r\n",
        "regresionV = ['mileage', 'year', 'engineCapacity']\r\n",
        "\r\n",
        "#Clean some outliers in train\r\n",
        "trainData = trainData[(np.abs(stats.zscore(trainData[regresionV])) < 3).all(axis=1)]\r\n",
        "\r\n",
        "idTrain = trainData[regresionV]\r\n",
        "idDev = devDataInput[regresionV]\r\n",
        "idTest = testDataInput[regresionV]"
      ],
      "execution_count": 102,
      "outputs": []
    },
    {
      "cell_type": "code",
      "metadata": {
        "id": "KxDaPHzMdV3R"
      },
      "source": [
        "#Choose which data to use as categorical (One hot encoding)\r\n",
        "values = {'brand' : 'Opel', 'engineType': 'benzyna'}\r\n",
        "category = list(values.keys())\r\n",
        "X_c = pd.get_dummies(trainData[category],columns=category)\r\n",
        "dev_c = pd.get_dummies(devDataInput[category],columns=category)\r\n",
        "test_c = pd.get_dummies(testDataInput[category],columns=category)"
      ],
      "execution_count": 103,
      "outputs": []
    },
    {
      "cell_type": "code",
      "metadata": {
        "id": "RqbnEjwzlHs-"
      },
      "source": [
        "dev_c = (AddMissingColumn(dev_c, X_c)).fillna(0)\r\n",
        "test_c = (AddMissingColumn(test_c, X_c)).fillna(0)"
      ],
      "execution_count": 110,
      "outputs": []
    },
    {
      "cell_type": "code",
      "metadata": {
        "colab": {
          "base_uri": "https://localhost:8080/"
        },
        "id": "xaRqYsqOisSp",
        "outputId": "bd4fc828-bb67-4784-ec8a-6f54a0924790"
      },
      "source": [
        "len(trainData)"
      ],
      "execution_count": 111,
      "outputs": [
        {
          "output_type": "execute_result",
          "data": {
            "text/plain": [
              "46661"
            ]
          },
          "metadata": {
            "tags": []
          },
          "execution_count": 111
        }
      ]
    },
    {
      "cell_type": "code",
      "metadata": {
        "id": "NLSCsmBUgP69"
      },
      "source": [
        "#Prepare final arrays (Merge categorical and regression)\r\n",
        "arrayX = pd.concat([idTrain,X_c], axis=1)\r\n",
        "arrayDevX = pd.concat([idDev,dev_c], axis=1)\r\n",
        "testDevX = pd.concat([idTest,test_c], axis=1)\r\n",
        "Y = trainData['price']"
      ],
      "execution_count": 112,
      "outputs": []
    },
    {
      "cell_type": "code",
      "metadata": {
        "colab": {
          "base_uri": "https://localhost:8080/"
        },
        "id": "27yYE0tmhHOp",
        "outputId": "a04a12aa-0829-46b2-e97e-7562c47c56e7"
      },
      "source": [
        "#Train model\r\n",
        "regresion = RandomForestRegressor(random_state=3,n_estimators=40)\r\n",
        "regresion.fit(arrayX,Y)"
      ],
      "execution_count": 113,
      "outputs": [
        {
          "output_type": "execute_result",
          "data": {
            "text/plain": [
              "RandomForestRegressor(bootstrap=True, ccp_alpha=0.0, criterion='mse',\n",
              "                      max_depth=None, max_features='auto', max_leaf_nodes=None,\n",
              "                      max_samples=None, min_impurity_decrease=0.0,\n",
              "                      min_impurity_split=None, min_samples_leaf=1,\n",
              "                      min_samples_split=2, min_weight_fraction_leaf=0.0,\n",
              "                      n_estimators=40, n_jobs=None, oob_score=False,\n",
              "                      random_state=3, verbose=0, warm_start=False)"
            ]
          },
          "metadata": {
            "tags": []
          },
          "execution_count": 113
        }
      ]
    },
    {
      "cell_type": "code",
      "metadata": {
        "colab": {
          "base_uri": "https://localhost:8080/"
        },
        "id": "7578Iwrrm-9K",
        "outputId": "b7d0ac91-e0d9-4feb-d146-e545fd45d0d3"
      },
      "source": [
        "#We got one additional problem to solve. There is column in test set which was not in training examples. \r\n",
        "set(testDevX.columns) - set(arrayX.columns)"
      ],
      "execution_count": 137,
      "outputs": [
        {
          "output_type": "execute_result",
          "data": {
            "text/plain": [
              "{'brand_Fabrycznie'}"
            ]
          },
          "metadata": {
            "tags": []
          },
          "execution_count": 137
        }
      ]
    },
    {
      "cell_type": "code",
      "metadata": {
        "id": "Nee6dXnRnJOj"
      },
      "source": [
        "testDevX = testDevX.drop(['brand_Fabrycznie'],axis=1)"
      ],
      "execution_count": 140,
      "outputs": []
    },
    {
      "cell_type": "code",
      "metadata": {
        "id": "PhKUvQ2Tk-0N"
      },
      "source": [
        "#Predict\r\n",
        "predictedTrain = regresion.predict(arrayX)\r\n",
        "predictedDev = regresion.predict(arrayDevX)\r\n",
        "predictedTest = regresion.predict(testDevX)"
      ],
      "execution_count": 141,
      "outputs": []
    },
    {
      "cell_type": "code",
      "metadata": {
        "colab": {
          "base_uri": "https://localhost:8080/"
        },
        "id": "wU_mEX8nnkdN",
        "outputId": "03e2f656-60f3-4ddf-9671-44e4542db876"
      },
      "source": [
        "#Train set accuracy\r\n",
        "print(regresion.score(arrayX,Y))"
      ],
      "execution_count": 146,
      "outputs": [
        {
          "output_type": "stream",
          "text": [
            "0.975373433737474\n"
          ],
          "name": "stdout"
        }
      ]
    },
    {
      "cell_type": "code",
      "metadata": {
        "colab": {
          "base_uri": "https://localhost:8080/"
        },
        "id": "T9ulwHORnYgb",
        "outputId": "e084445f-0502-4320-e878-d3b0e815d1d3"
      },
      "source": [
        "#Dev set accuracy\r\n",
        "regresion.score(arrayDevX,devDataOutput)"
      ],
      "execution_count": 147,
      "outputs": [
        {
          "output_type": "execute_result",
          "data": {
            "text/plain": [
              "0.7412624609975231"
            ]
          },
          "metadata": {
            "tags": []
          },
          "execution_count": 147
        }
      ]
    },
    {
      "cell_type": "code",
      "metadata": {
        "colab": {
          "base_uri": "https://localhost:8080/"
        },
        "id": "sRnUNlwnnxA9",
        "outputId": "2d6829fd-378e-409a-b4c8-c815f287f351"
      },
      "source": [
        "#RMSE\r\n",
        "print(math.sqrt(mean_squared_error(devDataOutput,predictedDev)))"
      ],
      "execution_count": 150,
      "outputs": [
        {
          "output_type": "stream",
          "text": [
            "25604.223404608674\n"
          ],
          "name": "stdout"
        }
      ]
    },
    {
      "cell_type": "code",
      "metadata": {
        "id": "4F5dCGktogdE"
      },
      "source": [
        "#Save results\r\n",
        "np.savetxt('/content/auta/test-A/out.tsv', predictedTest, '%.0f')\r\n",
        "np.savetxt('/content/auta/dev-0/out.tsv', predictedDev, '%.0f')"
      ],
      "execution_count": 154,
      "outputs": []
    }
  ]
}