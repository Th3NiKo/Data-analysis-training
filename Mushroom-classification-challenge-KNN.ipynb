{
  "nbformat": 4,
  "nbformat_minor": 0,
  "metadata": {
    "colab": {
      "name": "Mushroom classification challenge - KNN.ipynb",
      "provenance": []
    },
    "kernelspec": {
      "name": "python3",
      "display_name": "Python 3"
    }
  },
  "cells": [
    {
      "cell_type": "markdown",
      "metadata": {
        "id": "RqGj7R5_bCv-"
      },
      "source": [
        "**Mushroom classification challenge**\r\n",
        "\r\n",
        "**Task**: Predict whether the mushroom is edible (e) or poisonous (p).\r\n",
        "\r\n",
        "Used KNN\r\n",
        "\r\n",
        "*Adam Mickiewicz University*\r\n",
        "\r\n",
        "*Faculty of Mathematics and Computer Science*\r\n",
        "\r\n",
        "*Subject: Machine learning - applications*"
      ]
    },
    {
      "cell_type": "code",
      "metadata": {
        "colab": {
          "base_uri": "https://localhost:8080/"
        },
        "id": "Gb8V_lrVaWkW",
        "outputId": "95035874-32fc-401a-e21d-40927dfc3c98"
      },
      "source": [
        "!git clone git://gonito.net/mushrooms"
      ],
      "execution_count": 57,
      "outputs": [
        {
          "output_type": "stream",
          "text": [
            "fatal: destination path 'mushrooms' already exists and is not an empty directory.\n"
          ],
          "name": "stdout"
        }
      ]
    },
    {
      "cell_type": "code",
      "metadata": {
        "id": "8WKniv3Oa8YE"
      },
      "source": [
        "import numpy as np\r\n",
        "import pandas as pd\r\n",
        "from sklearn.neighbors import KNeighborsClassifier"
      ],
      "execution_count": 58,
      "outputs": []
    },
    {
      "cell_type": "code",
      "metadata": {
        "id": "sZQ6As32bGZv"
      },
      "source": [
        "def AddMissingColumn(test,train):\r\n",
        "    \"\"\"Fix diffrence in dimension between test and train data\"\"\"\r\n",
        "    train_objs_num = len(train)\r\n",
        "    dataset = pd.concat(objs=[train, test], axis=0)\r\n",
        "    dataset_preprocessed = pd.get_dummies(dataset)\r\n",
        "    test_preprocessed = dataset_preprocessed[train_objs_num:]\r\n",
        "    return test_preprocessed"
      ],
      "execution_count": 59,
      "outputs": []
    },
    {
      "cell_type": "code",
      "metadata": {
        "id": "SmoEqaITbvGx"
      },
      "source": [
        "#Load from file\r\n",
        "train_data = pd.read_csv('/content/mushrooms/train/train.tsv', header=None, sep='\\t')\r\n",
        "dev_data_X = pd.read_csv('/content/mushrooms/dev-0/in.tsv', header=None, sep='\\t')\r\n",
        "dev_data_Y = pd.read_csv('/content/mushrooms/dev-0/expected.tsv', header=None, sep='\\t')\r\n",
        "test_data_X = pd.read_csv('/content/mushrooms/test-A/in.tsv', header=None, sep='\\t')"
      ],
      "execution_count": 60,
      "outputs": []
    },
    {
      "cell_type": "code",
      "metadata": {
        "colab": {
          "base_uri": "https://localhost:8080/",
          "height": 204
        },
        "id": "DWouYnmJdqus",
        "outputId": "04c46988-3d47-4ddf-a9ea-fc22b02506da"
      },
      "source": [
        "#Check sample\r\n",
        "train_data.sample(5)"
      ],
      "execution_count": 61,
      "outputs": [
        {
          "output_type": "execute_result",
          "data": {
            "text/html": [
              "<div>\n",
              "<style scoped>\n",
              "    .dataframe tbody tr th:only-of-type {\n",
              "        vertical-align: middle;\n",
              "    }\n",
              "\n",
              "    .dataframe tbody tr th {\n",
              "        vertical-align: top;\n",
              "    }\n",
              "\n",
              "    .dataframe thead th {\n",
              "        text-align: right;\n",
              "    }\n",
              "</style>\n",
              "<table border=\"1\" class=\"dataframe\">\n",
              "  <thead>\n",
              "    <tr style=\"text-align: right;\">\n",
              "      <th></th>\n",
              "      <th>0</th>\n",
              "      <th>1</th>\n",
              "      <th>2</th>\n",
              "      <th>3</th>\n",
              "      <th>4</th>\n",
              "      <th>5</th>\n",
              "      <th>6</th>\n",
              "      <th>7</th>\n",
              "      <th>8</th>\n",
              "      <th>9</th>\n",
              "      <th>10</th>\n",
              "      <th>11</th>\n",
              "      <th>12</th>\n",
              "      <th>13</th>\n",
              "      <th>14</th>\n",
              "      <th>15</th>\n",
              "      <th>16</th>\n",
              "      <th>17</th>\n",
              "      <th>18</th>\n",
              "      <th>19</th>\n",
              "      <th>20</th>\n",
              "      <th>21</th>\n",
              "      <th>22</th>\n",
              "    </tr>\n",
              "  </thead>\n",
              "  <tbody>\n",
              "    <tr>\n",
              "      <th>1640</th>\n",
              "      <td>e</td>\n",
              "      <td>x</td>\n",
              "      <td>y</td>\n",
              "      <td>w</td>\n",
              "      <td>t</td>\n",
              "      <td>a</td>\n",
              "      <td>f</td>\n",
              "      <td>c</td>\n",
              "      <td>b</td>\n",
              "      <td>k</td>\n",
              "      <td>e</td>\n",
              "      <td>c</td>\n",
              "      <td>s</td>\n",
              "      <td>s</td>\n",
              "      <td>w</td>\n",
              "      <td>w</td>\n",
              "      <td>p</td>\n",
              "      <td>w</td>\n",
              "      <td>o</td>\n",
              "      <td>p</td>\n",
              "      <td>k</td>\n",
              "      <td>s</td>\n",
              "      <td>m</td>\n",
              "    </tr>\n",
              "    <tr>\n",
              "      <th>4496</th>\n",
              "      <td>p</td>\n",
              "      <td>f</td>\n",
              "      <td>y</td>\n",
              "      <td>y</td>\n",
              "      <td>f</td>\n",
              "      <td>f</td>\n",
              "      <td>f</td>\n",
              "      <td>c</td>\n",
              "      <td>b</td>\n",
              "      <td>g</td>\n",
              "      <td>e</td>\n",
              "      <td>b</td>\n",
              "      <td>k</td>\n",
              "      <td>k</td>\n",
              "      <td>p</td>\n",
              "      <td>b</td>\n",
              "      <td>p</td>\n",
              "      <td>w</td>\n",
              "      <td>o</td>\n",
              "      <td>l</td>\n",
              "      <td>h</td>\n",
              "      <td>v</td>\n",
              "      <td>g</td>\n",
              "    </tr>\n",
              "    <tr>\n",
              "      <th>5838</th>\n",
              "      <td>p</td>\n",
              "      <td>f</td>\n",
              "      <td>y</td>\n",
              "      <td>n</td>\n",
              "      <td>f</td>\n",
              "      <td>y</td>\n",
              "      <td>f</td>\n",
              "      <td>c</td>\n",
              "      <td>n</td>\n",
              "      <td>b</td>\n",
              "      <td>t</td>\n",
              "      <td>?</td>\n",
              "      <td>k</td>\n",
              "      <td>k</td>\n",
              "      <td>w</td>\n",
              "      <td>p</td>\n",
              "      <td>p</td>\n",
              "      <td>w</td>\n",
              "      <td>o</td>\n",
              "      <td>e</td>\n",
              "      <td>w</td>\n",
              "      <td>v</td>\n",
              "      <td>l</td>\n",
              "    </tr>\n",
              "    <tr>\n",
              "      <th>674</th>\n",
              "      <td>e</td>\n",
              "      <td>x</td>\n",
              "      <td>f</td>\n",
              "      <td>g</td>\n",
              "      <td>f</td>\n",
              "      <td>n</td>\n",
              "      <td>f</td>\n",
              "      <td>w</td>\n",
              "      <td>b</td>\n",
              "      <td>k</td>\n",
              "      <td>t</td>\n",
              "      <td>e</td>\n",
              "      <td>s</td>\n",
              "      <td>f</td>\n",
              "      <td>w</td>\n",
              "      <td>w</td>\n",
              "      <td>p</td>\n",
              "      <td>w</td>\n",
              "      <td>o</td>\n",
              "      <td>e</td>\n",
              "      <td>n</td>\n",
              "      <td>s</td>\n",
              "      <td>g</td>\n",
              "    </tr>\n",
              "    <tr>\n",
              "      <th>4389</th>\n",
              "      <td>p</td>\n",
              "      <td>c</td>\n",
              "      <td>y</td>\n",
              "      <td>w</td>\n",
              "      <td>t</td>\n",
              "      <td>n</td>\n",
              "      <td>f</td>\n",
              "      <td>w</td>\n",
              "      <td>n</td>\n",
              "      <td>w</td>\n",
              "      <td>e</td>\n",
              "      <td>b</td>\n",
              "      <td>s</td>\n",
              "      <td>s</td>\n",
              "      <td>w</td>\n",
              "      <td>w</td>\n",
              "      <td>p</td>\n",
              "      <td>w</td>\n",
              "      <td>o</td>\n",
              "      <td>p</td>\n",
              "      <td>w</td>\n",
              "      <td>c</td>\n",
              "      <td>l</td>\n",
              "    </tr>\n",
              "  </tbody>\n",
              "</table>\n",
              "</div>"
            ],
            "text/plain": [
              "     0  1  2  3  4  5  6  7  8  9  10 11 12 13 14 15 16 17 18 19 20 21 22\n",
              "1640  e  x  y  w  t  a  f  c  b  k  e  c  s  s  w  w  p  w  o  p  k  s  m\n",
              "4496  p  f  y  y  f  f  f  c  b  g  e  b  k  k  p  b  p  w  o  l  h  v  g\n",
              "5838  p  f  y  n  f  y  f  c  n  b  t  ?  k  k  w  p  p  w  o  e  w  v  l\n",
              "674   e  x  f  g  f  n  f  w  b  k  t  e  s  f  w  w  p  w  o  e  n  s  g\n",
              "4389  p  c  y  w  t  n  f  w  n  w  e  b  s  s  w  w  p  w  o  p  w  c  l"
            ]
          },
          "metadata": {
            "tags": []
          },
          "execution_count": 61
        }
      ]
    },
    {
      "cell_type": "code",
      "metadata": {
        "id": "8pS4Oijmd9jn"
      },
      "source": [
        "#Prepare Data\r\n",
        "train_data_X = train_data.iloc[:,1:]\r\n",
        "train_data_X.columns = np.arange(0,22,1)\r\n",
        "train_data_Y = train_data.iloc[:,[0]]"
      ],
      "execution_count": 62,
      "outputs": []
    },
    {
      "cell_type": "code",
      "metadata": {
        "id": "1NNrLg-ZeU5M"
      },
      "source": [
        "#Fix Mismatched\r\n",
        "dev_data_X = AddMissingColumn(dev_data_X, train_data_X)\r\n",
        "test_data_X = AddMissingColumn(test_data_X, train_data_X)"
      ],
      "execution_count": 63,
      "outputs": []
    },
    {
      "cell_type": "code",
      "metadata": {
        "id": "JuBdPjFGeBjZ"
      },
      "source": [
        "train_data_X = pd.get_dummies(train_data_X).values\r\n",
        "train_data_Y = pd.get_dummies(train_data_Y).values\r\n",
        "train_data_Y = np.delete(train_data_Y , 1, axis=1).ravel()"
      ],
      "execution_count": 64,
      "outputs": []
    },
    {
      "cell_type": "code",
      "metadata": {
        "id": "zUThGbCWeDCy"
      },
      "source": [
        "dev_data_X = pd.get_dummies(dev_data_X).values\r\n",
        "dev_data_Y = pd.get_dummies(dev_data_Y).values\r\n",
        "dev_data_Y = np.delete(dev_data_Y , 1, axis=1).ravel()"
      ],
      "execution_count": 65,
      "outputs": []
    },
    {
      "cell_type": "code",
      "metadata": {
        "id": "cOI3VrlceF8D"
      },
      "source": [
        "test_data_X = pd.get_dummies(test_data_X).values"
      ],
      "execution_count": 66,
      "outputs": []
    },
    {
      "cell_type": "code",
      "metadata": {
        "colab": {
          "base_uri": "https://localhost:8080/"
        },
        "id": "R_GStzKqeHRs",
        "outputId": "b0441cbc-50c3-406a-c869-0c153c8be138"
      },
      "source": [
        "#Train model\r\n",
        "model = KNeighborsClassifier(n_neighbors=2)\r\n",
        "model.fit(train_data_X, train_data_Y)"
      ],
      "execution_count": 67,
      "outputs": [
        {
          "output_type": "execute_result",
          "data": {
            "text/plain": [
              "KNeighborsClassifier(algorithm='auto', leaf_size=30, metric='minkowski',\n",
              "                     metric_params=None, n_jobs=None, n_neighbors=2, p=2,\n",
              "                     weights='uniform')"
            ]
          },
          "metadata": {
            "tags": []
          },
          "execution_count": 67
        }
      ]
    },
    {
      "cell_type": "code",
      "metadata": {
        "colab": {
          "base_uri": "https://localhost:8080/"
        },
        "id": "7zaOET9qeJPv",
        "outputId": "ab6e151d-9321-4bb3-a589-4d3568de97b9"
      },
      "source": [
        "#Predict, evaluate and save\r\n",
        "dev_data_predicted = model.predict(dev_data_X)\r\n",
        "test_data_predicted = model.predict(test_data_X)\r\n",
        " \r\n",
        "print(model.score(dev_data_X, dev_data_Y))\r\n",
        "print(model.score(train_data_X, train_data_Y))"
      ],
      "execution_count": 68,
      "outputs": [
        {
          "output_type": "stream",
          "text": [
            "1.0\n",
            "1.0\n"
          ],
          "name": "stdout"
        }
      ]
    },
    {
      "cell_type": "code",
      "metadata": {
        "id": "oIGotJz-eza5"
      },
      "source": [
        "def ResultToNames(result):\r\n",
        "    output = []\r\n",
        "    for el in result:\r\n",
        "        if el == 0:\r\n",
        "            output.append('p')\r\n",
        "        else:\r\n",
        "            output.append('e')\r\n",
        "    return output"
      ],
      "execution_count": 69,
      "outputs": []
    },
    {
      "cell_type": "code",
      "metadata": {
        "id": "FBfsn3i0e3eO"
      },
      "source": [
        "np.savetxt('/content/mushrooms/test-A/out.tsv', ResultToNames(test_data_predicted), '%c')\r\n",
        "np.savetxt('/content/mushrooms/dev-0/out.tsv', ResultToNames(dev_data_predicted), '%c')"
      ],
      "execution_count": 70,
      "outputs": []
    },
    {
      "cell_type": "code",
      "metadata": {
        "colab": {
          "base_uri": "https://localhost:8080/"
        },
        "id": "4Lthryp4fq5x",
        "outputId": "f3d39b94-68d3-47d6-bf0e-f7b27de913bc"
      },
      "source": [
        "!wget https://gonito.net/get/bin/geval\r\n",
        "!chmod u+x geval"
      ],
      "execution_count": 71,
      "outputs": [
        {
          "output_type": "stream",
          "text": [
            "--2021-02-08 12:16:19--  https://gonito.net/get/bin/geval\n",
            "Resolving gonito.net (gonito.net)... 178.216.200.70\n",
            "Connecting to gonito.net (gonito.net)|178.216.200.70|:443... connected.\n",
            "HTTP request sent, awaiting response... 200 OK\n",
            "Length: 12638056 (12M) [application/octet-stream]\n",
            "Saving to: ‘geval.1’\n",
            "\n",
            "geval.1             100%[===================>]  12.05M  7.85MB/s    in 1.5s    \n",
            "\n",
            "2021-02-08 12:16:22 (7.85 MB/s) - ‘geval.1’ saved [12638056/12638056]\n",
            "\n"
          ],
          "name": "stdout"
        }
      ]
    }
  ]
}