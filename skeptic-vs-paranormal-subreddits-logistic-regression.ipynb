{
  "nbformat": 4,
  "nbformat_minor": 0,
  "metadata": {
    "colab": {
      "name": "Skeptic vs paranormal subreddits - Logistic Regression.ipynb",
      "provenance": [],
      "collapsed_sections": [],
      "toc_visible": true
    },
    "kernelspec": {
      "name": "python3",
      "display_name": "Python 3"
    }
  },
  "cells": [
    {
      "cell_type": "markdown",
      "metadata": {
        "id": "4HBDQQs3SUiG"
      },
      "source": [
        "**Skeptic vs paranormal subreddits**\r\n",
        "\r\n",
        "**Task**: Classify a reddit as either from Skeptic subreddit or one of the \"paranormal\" subreddits (Paranormal, UFOs, TheTruthIsHere, Ghosts, Glitch-in-the-Matrix, conspiracytheories).\r\n",
        "\r\n",
        "Used Count Vectorizer and Logistic Regression.\r\n",
        "\r\n",
        "*Adam Mickiewicz University*\r\n",
        "\r\n",
        "*Faculty of Mathematics and Computer Science*\r\n",
        "\r\n",
        "*Subject: Intelligent information systems*\r\n"
      ]
    },
    {
      "cell_type": "code",
      "metadata": {
        "id": "dZUIeB9Q8rv3"
      },
      "source": [
        "!git clone git://gonito.net/paranormal-or-skeptic "
      ],
      "execution_count": null,
      "outputs": []
    },
    {
      "cell_type": "markdown",
      "metadata": {
        "id": "x8uZz8__5sXr"
      },
      "source": [
        "\n",
        "# Loading Data\n"
      ]
    },
    {
      "cell_type": "code",
      "metadata": {
        "id": "NQFKg_czGeRA",
        "colab": {
          "base_uri": "https://localhost:8080/"
        },
        "outputId": "d4427922-42f8-48e0-a5be-253325e53417"
      },
      "source": [
        "!xzcat /content/paranormal-or-skeptic/train/in.tsv.xz | wc -l"
      ],
      "execution_count": 42,
      "outputs": [
        {
          "output_type": "stream",
          "text": [
            "289579\n"
          ],
          "name": "stdout"
        }
      ]
    },
    {
      "cell_type": "code",
      "metadata": {
        "id": "GxUYlO5M6SOJ"
      },
      "source": [
        "import matplotlib.pyplot as plt\n",
        "import seaborn as sns\n",
        "import pandas as pd\n",
        "import numpy as np\n",
        "from scipy.sparse import hstack\n",
        "import csv\n",
        "import datetime"
      ],
      "execution_count": 18,
      "outputs": []
    },
    {
      "cell_type": "code",
      "metadata": {
        "id": "MWDzekYY6S9f"
      },
      "source": [
        "from sklearn.feature_extraction.text import CountVectorizer\n",
        "from sklearn.pipeline import Pipeline\n",
        "from sklearn.linear_model import LogisticRegression"
      ],
      "execution_count": 19,
      "outputs": []
    },
    {
      "cell_type": "code",
      "metadata": {
        "id": "SrLtGV3p4pKW"
      },
      "source": [
        "def load_set(path, isTest):\n",
        "  dataset = pd.read_csv(path+\"/in.tsv.xz\", delimiter=\"\\t\",header=None,names=[\"text\",\"date\"],quoting=csv.QUOTE_NONE)\n",
        "  dataset[\"date\"] = pd.to_datetime(dataset[\"date\"].apply(lambda x: datetime.datetime.fromtimestamp(x).isoformat()))\n",
        "  if not isTest:\n",
        "    expected = pd.read_csv(path+\"/expected.tsv\",header=None,names=[\"class\"],dtype=\"category\")\n",
        "    return dataset, expected\n",
        "  return dataset"
      ],
      "execution_count": 20,
      "outputs": []
    },
    {
      "cell_type": "markdown",
      "metadata": {
        "id": "wH70ClgjBeCO"
      },
      "source": [
        "**Load all sets**"
      ]
    },
    {
      "cell_type": "code",
      "metadata": {
        "id": "huOmuCrE6yCR"
      },
      "source": [
        "train_set, expected_train = load_set(\"/content/paranormal-or-skeptic/train/\", False)\n",
        "dev_set, expected_dev = load_set(\"/content/paranormal-or-skeptic/dev-0\", False)\n",
        "test_set = load_set(\"/content/paranormal-or-skeptic/test-A\", True)"
      ],
      "execution_count": 21,
      "outputs": []
    },
    {
      "cell_type": "markdown",
      "metadata": {
        "id": "mWO1IroV6cmm"
      },
      "source": [
        "# Prepare data"
      ]
    },
    {
      "cell_type": "code",
      "metadata": {
        "id": "VVd7DJ1E6cOO"
      },
      "source": [
        "def prepare_data(data):\n",
        "  data[\"day\"] = data[\"date\"].dt.day\n",
        "  data[\"month\"] = data[\"date\"].dt.month\n",
        "  data[\"year\"] = data[\"date\"].dt.year\n",
        "  return data"
      ],
      "execution_count": 22,
      "outputs": []
    },
    {
      "cell_type": "code",
      "metadata": {
        "id": "i_k63XB5642m"
      },
      "source": [
        "train_set = prepare_data(train_set)"
      ],
      "execution_count": 23,
      "outputs": []
    },
    {
      "cell_type": "code",
      "metadata": {
        "id": "dcjUSa7f7Wex",
        "colab": {
          "base_uri": "https://localhost:8080/",
          "height": 204
        },
        "outputId": "9f256e08-2eee-423a-d3fd-8d274e4ab8c6"
      },
      "source": [
        "train_set.sample(5)"
      ],
      "execution_count": 24,
      "outputs": [
        {
          "output_type": "execute_result",
          "data": {
            "text/html": [
              "<div>\n",
              "<style scoped>\n",
              "    .dataframe tbody tr th:only-of-type {\n",
              "        vertical-align: middle;\n",
              "    }\n",
              "\n",
              "    .dataframe tbody tr th {\n",
              "        vertical-align: top;\n",
              "    }\n",
              "\n",
              "    .dataframe thead th {\n",
              "        text-align: right;\n",
              "    }\n",
              "</style>\n",
              "<table border=\"1\" class=\"dataframe\">\n",
              "  <thead>\n",
              "    <tr style=\"text-align: right;\">\n",
              "      <th></th>\n",
              "      <th>text</th>\n",
              "      <th>date</th>\n",
              "      <th>day</th>\n",
              "      <th>month</th>\n",
              "      <th>year</th>\n",
              "    </tr>\n",
              "  </thead>\n",
              "  <tbody>\n",
              "    <tr>\n",
              "      <th>254825</th>\n",
              "      <td>A while ago, I wrote a program that takes rand...</td>\n",
              "      <td>2011-03-30 20:12:11</td>\n",
              "      <td>30</td>\n",
              "      <td>3</td>\n",
              "      <td>2011</td>\n",
              "    </tr>\n",
              "    <tr>\n",
              "      <th>266656</th>\n",
              "      <td>I've had this done to me and I didn't know he ...</td>\n",
              "      <td>2012-01-30 14:46:19</td>\n",
              "      <td>30</td>\n",
              "      <td>1</td>\n",
              "      <td>2012</td>\n",
              "    </tr>\n",
              "    <tr>\n",
              "      <th>283655</th>\n",
              "      <td>I've watched a lot of his comedy and considere...</td>\n",
              "      <td>2012-05-18 02:01:25</td>\n",
              "      <td>18</td>\n",
              "      <td>5</td>\n",
              "      <td>2012</td>\n",
              "    </tr>\n",
              "    <tr>\n",
              "      <th>140212</th>\n",
              "      <td>[Will Storr v The Supernatural](http://www.ama...</td>\n",
              "      <td>2011-12-27 04:57:11</td>\n",
              "      <td>27</td>\n",
              "      <td>12</td>\n",
              "      <td>2011</td>\n",
              "    </tr>\n",
              "    <tr>\n",
              "      <th>184800</th>\n",
              "      <td>I do not see anything in this video\\n\\nnothing</td>\n",
              "      <td>2012-10-24 15:26:10</td>\n",
              "      <td>24</td>\n",
              "      <td>10</td>\n",
              "      <td>2012</td>\n",
              "    </tr>\n",
              "  </tbody>\n",
              "</table>\n",
              "</div>"
            ],
            "text/plain": [
              "                                                     text  ...  year\n",
              "254825  A while ago, I wrote a program that takes rand...  ...  2011\n",
              "266656  I've had this done to me and I didn't know he ...  ...  2012\n",
              "283655  I've watched a lot of his comedy and considere...  ...  2012\n",
              "140212  [Will Storr v The Supernatural](http://www.ama...  ...  2011\n",
              "184800     I do not see anything in this video\\n\\nnothing  ...  2012\n",
              "\n",
              "[5 rows x 5 columns]"
            ]
          },
          "metadata": {
            "tags": []
          },
          "execution_count": 24
        }
      ]
    },
    {
      "cell_type": "markdown",
      "metadata": {
        "id": "hIZZ9vcu5Xx7"
      },
      "source": [
        "# Train"
      ]
    },
    {
      "cell_type": "code",
      "metadata": {
        "id": "yqHuHTyI8Kfz"
      },
      "source": [
        "vectorize = CountVectorizer(stop_words='english',ngram_range=(1,3),strip_accents='ascii')\n",
        "vectorized = vectorize.fit_transform(train_set[\"text\"])"
      ],
      "execution_count": 25,
      "outputs": []
    },
    {
      "cell_type": "code",
      "metadata": {
        "id": "ZaLsOdPe9aFu"
      },
      "source": [
        "X = vectorized\n",
        "y = expected_train[\"class\"]"
      ],
      "execution_count": 26,
      "outputs": []
    },
    {
      "cell_type": "code",
      "metadata": {
        "id": "CeYlhwda9Sa7",
        "colab": {
          "base_uri": "https://localhost:8080/"
        },
        "outputId": "a628cf74-d23a-4811-9350-0ae9d02f0576"
      },
      "source": [
        "model = LogisticRegression(max_iter=500)\n",
        "model.fit(X,y)"
      ],
      "execution_count": 27,
      "outputs": [
        {
          "output_type": "execute_result",
          "data": {
            "text/plain": [
              "LogisticRegression(C=1.0, class_weight=None, dual=False, fit_intercept=True,\n",
              "                   intercept_scaling=1, l1_ratio=None, max_iter=500,\n",
              "                   multi_class='auto', n_jobs=None, penalty='l2',\n",
              "                   random_state=None, solver='lbfgs', tol=0.0001, verbose=0,\n",
              "                   warm_start=False)"
            ]
          },
          "metadata": {
            "tags": []
          },
          "execution_count": 27
        }
      ]
    },
    {
      "cell_type": "markdown",
      "metadata": {
        "id": "SaIcL28I-JCK"
      },
      "source": [
        "# Predict and evaluate"
      ]
    },
    {
      "cell_type": "code",
      "metadata": {
        "id": "q34dlX_43ZoV"
      },
      "source": [
        "def predict_data(data):\n",
        "  prepared = prepare_data(data)\n",
        "  vectorized = vectorize.transform(data[\"text\"])\n",
        "  predicted = model.predict_proba(vectorized)[:,1]\n",
        "  predicted[predicted < 0.05] = 0.05\n",
        "  predicted[predicted > 0.95] = 0.95\n",
        "  return predicted"
      ],
      "execution_count": 28,
      "outputs": []
    },
    {
      "cell_type": "code",
      "metadata": {
        "id": "9sLnLLEUHgoM"
      },
      "source": [
        "dev_predicted = predict_data(dev_set)"
      ],
      "execution_count": 29,
      "outputs": []
    },
    {
      "cell_type": "code",
      "metadata": {
        "id": "yigVrrVJHkob",
        "colab": {
          "base_uri": "https://localhost:8080/"
        },
        "outputId": "25aead5d-24c7-410c-ba2a-d82333616ee0"
      },
      "source": [
        "dev_predicted"
      ],
      "execution_count": 30,
      "outputs": [
        {
          "output_type": "execute_result",
          "data": {
            "text/plain": [
              "array([0.05      , 0.75847969, 0.86484399, ..., 0.0650311 , 0.95      ,\n",
              "       0.37791457])"
            ]
          },
          "metadata": {
            "tags": []
          },
          "execution_count": 30
        }
      ]
    },
    {
      "cell_type": "code",
      "metadata": {
        "id": "gPdE2HK64aRZ"
      },
      "source": [
        "test_predicted = predict_data(test_set)"
      ],
      "execution_count": 31,
      "outputs": []
    },
    {
      "cell_type": "markdown",
      "metadata": {
        "id": "baJydHEl4H7N"
      },
      "source": [
        "**Save to file**\n"
      ]
    },
    {
      "cell_type": "code",
      "metadata": {
        "id": "O6gyoEJf4KhS"
      },
      "source": [
        "np.savetxt('/content/paranormal-or-skeptic/test-A/out.tsv', test_predicted, '%f')\n",
        "np.savetxt('/content/paranormal-or-skeptic/dev-0/out.tsv', dev_predicted, '%f')"
      ],
      "execution_count": 35,
      "outputs": []
    },
    {
      "cell_type": "markdown",
      "metadata": {
        "id": "jIG2Fxrm89D7"
      },
      "source": [
        "**Check geval output**"
      ]
    },
    {
      "cell_type": "code",
      "metadata": {
        "id": "mnch9uLE8vkK",
        "colab": {
          "base_uri": "https://localhost:8080/"
        },
        "outputId": "1ea30e2e-6321-43b2-c9ad-ab9ee1bbae24"
      },
      "source": [
        "!wget https://gonito.net/get/bin/geval\n",
        "!chmod u+x geval"
      ],
      "execution_count": 36,
      "outputs": [
        {
          "output_type": "stream",
          "text": [
            "--2021-02-06 12:19:02--  https://gonito.net/get/bin/geval\n",
            "Resolving gonito.net (gonito.net)... 178.216.200.70\n",
            "Connecting to gonito.net (gonito.net)|178.216.200.70|:443... connected.\n",
            "HTTP request sent, awaiting response... 200 OK\n",
            "Length: 12638056 (12M) [application/octet-stream]\n",
            "Saving to: ‘geval’\n",
            "\n",
            "geval               100%[===================>]  12.05M  9.17MB/s    in 1.3s    \n",
            "\n",
            "2021-02-06 12:19:04 (9.17 MB/s) - ‘geval’ saved [12638056/12638056]\n",
            "\n"
          ],
          "name": "stdout"
        }
      ]
    },
    {
      "cell_type": "code",
      "metadata": {
        "id": "oEkjIcwe8zef",
        "colab": {
          "base_uri": "https://localhost:8080/"
        },
        "outputId": "0172497f-b39d-4dee-ee83-6b031aa54c76"
      },
      "source": [
        "!./geval -t \"/content/paranormal-or-skeptic/dev-0\" --metric Accuracy"
      ],
      "execution_count": 40,
      "outputs": [
        {
          "output_type": "stream",
          "text": [
            "0.8150606980273141\n"
          ],
          "name": "stdout"
        }
      ]
    },
    {
      "cell_type": "code",
      "metadata": {
        "colab": {
          "base_uri": "https://localhost:8080/"
        },
        "id": "TFIZRMYJSJSj",
        "outputId": "b9b58d69-3b9b-4636-a384-6f0fc3bba97f"
      },
      "source": [
        "!./geval -t \"/content/paranormal-or-skeptic/dev-0\" --metric F2.0"
      ],
      "execution_count": 41,
      "outputs": [
        {
          "output_type": "stream",
          "text": [
            "0.689655172413793\n"
          ],
          "name": "stdout"
        }
      ]
    }
  ]
}