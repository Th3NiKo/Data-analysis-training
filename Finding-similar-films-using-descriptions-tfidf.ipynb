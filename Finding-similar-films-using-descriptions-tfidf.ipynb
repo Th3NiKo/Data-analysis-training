{
  "nbformat": 4,
  "nbformat_minor": 0,
  "metadata": {
    "kernelspec": {
      "name": "python3",
      "display_name": "Python 3",
      "language": "python"
    },
    "language_info": {
      "name": "python",
      "version": "3.7.9",
      "mimetype": "text/x-python",
      "codemirror_mode": {
        "name": "ipython",
        "version": 3
      },
      "pygments_lexer": "ipython3",
      "nbconvert_exporter": "python",
      "file_extension": ".py"
    },
    "colab": {
      "name": "finding-similar-movies-tv-shows-by-descriptions.ipynb",
      "provenance": [],
      "toc_visible": true
    }
  },
  "cells": [
    {
      "cell_type": "markdown",
      "metadata": {
        "id": "Fl8XYQhQe6Ys"
      },
      "source": [
        "# Finding similar movies/tv shows using their descriptions"
      ]
    },
    {
      "cell_type": "markdown",
      "metadata": {
        "id": "qolzpZULe6Yw"
      },
      "source": [
        "Created for learning purposes."
      ]
    },
    {
      "cell_type": "code",
      "metadata": {
        "_uuid": "8f2839f25d086af736a60e9eeb907d3b93b6e0e5",
        "_cell_guid": "b1076dfc-b9ad-4769-8c92-a6c4dae69d19",
        "trusted": true,
        "colab": {
          "base_uri": "https://localhost:8080/"
        },
        "id": "dVBsWk9Ue6Yx",
        "outputId": "54be5b9e-21a1-43a7-fb5b-7821680888fb"
      },
      "source": [
        "import numpy as np # linear algebra\n",
        "import pandas as pd # data processing\n",
        "import nltk # Language processing tools\n",
        "nltk.download('punkt')"
      ],
      "execution_count": 34,
      "outputs": [
        {
          "output_type": "stream",
          "text": [
            "[nltk_data] Downloading package punkt to /root/nltk_data...\n",
            "[nltk_data]   Package punkt is already up-to-date!\n"
          ],
          "name": "stdout"
        },
        {
          "output_type": "execute_result",
          "data": {
            "text/plain": [
              "True"
            ]
          },
          "metadata": {
            "tags": []
          },
          "execution_count": 34
        }
      ]
    },
    {
      "cell_type": "code",
      "metadata": {
        "trusted": true,
        "id": "8eC0yaQSe6Yx"
      },
      "source": [
        "#Load our data\n",
        "netflix_data = pd.read_csv(\"netflix_titles.csv\")"
      ],
      "execution_count": 35,
      "outputs": []
    },
    {
      "cell_type": "code",
      "metadata": {
        "trusted": true,
        "colab": {
          "base_uri": "https://localhost:8080/",
          "height": 759
        },
        "id": "OvBAjO7Ve6Yx",
        "outputId": "bab25348-a8f3-4b10-9d4e-bf4709133178"
      },
      "source": [
        "#Check how data looks\n",
        "netflix_data"
      ],
      "execution_count": 36,
      "outputs": [
        {
          "output_type": "execute_result",
          "data": {
            "text/html": [
              "<div>\n",
              "<style scoped>\n",
              "    .dataframe tbody tr th:only-of-type {\n",
              "        vertical-align: middle;\n",
              "    }\n",
              "\n",
              "    .dataframe tbody tr th {\n",
              "        vertical-align: top;\n",
              "    }\n",
              "\n",
              "    .dataframe thead th {\n",
              "        text-align: right;\n",
              "    }\n",
              "</style>\n",
              "<table border=\"1\" class=\"dataframe\">\n",
              "  <thead>\n",
              "    <tr style=\"text-align: right;\">\n",
              "      <th></th>\n",
              "      <th>show_id</th>\n",
              "      <th>type</th>\n",
              "      <th>title</th>\n",
              "      <th>director</th>\n",
              "      <th>cast</th>\n",
              "      <th>country</th>\n",
              "      <th>date_added</th>\n",
              "      <th>release_year</th>\n",
              "      <th>rating</th>\n",
              "      <th>duration</th>\n",
              "      <th>listed_in</th>\n",
              "      <th>description</th>\n",
              "    </tr>\n",
              "  </thead>\n",
              "  <tbody>\n",
              "    <tr>\n",
              "      <th>0</th>\n",
              "      <td>s1</td>\n",
              "      <td>TV Show</td>\n",
              "      <td>3%</td>\n",
              "      <td>NaN</td>\n",
              "      <td>João Miguel, Bianca Comparato, Michel Gomes, R...</td>\n",
              "      <td>Brazil</td>\n",
              "      <td>August 14, 2020</td>\n",
              "      <td>2020</td>\n",
              "      <td>TV-MA</td>\n",
              "      <td>4 Seasons</td>\n",
              "      <td>International TV Shows, TV Dramas, TV Sci-Fi &amp;...</td>\n",
              "      <td>In a future where the elite inhabit an island ...</td>\n",
              "    </tr>\n",
              "    <tr>\n",
              "      <th>1</th>\n",
              "      <td>s2</td>\n",
              "      <td>Movie</td>\n",
              "      <td>7:19</td>\n",
              "      <td>Jorge Michel Grau</td>\n",
              "      <td>Demián Bichir, Héctor Bonilla, Oscar Serrano, ...</td>\n",
              "      <td>Mexico</td>\n",
              "      <td>December 23, 2016</td>\n",
              "      <td>2016</td>\n",
              "      <td>TV-MA</td>\n",
              "      <td>93 min</td>\n",
              "      <td>Dramas, International Movies</td>\n",
              "      <td>After a devastating earthquake hits Mexico Cit...</td>\n",
              "    </tr>\n",
              "    <tr>\n",
              "      <th>2</th>\n",
              "      <td>s3</td>\n",
              "      <td>Movie</td>\n",
              "      <td>23:59</td>\n",
              "      <td>Gilbert Chan</td>\n",
              "      <td>Tedd Chan, Stella Chung, Henley Hii, Lawrence ...</td>\n",
              "      <td>Singapore</td>\n",
              "      <td>December 20, 2018</td>\n",
              "      <td>2011</td>\n",
              "      <td>R</td>\n",
              "      <td>78 min</td>\n",
              "      <td>Horror Movies, International Movies</td>\n",
              "      <td>When an army recruit is found dead, his fellow...</td>\n",
              "    </tr>\n",
              "    <tr>\n",
              "      <th>3</th>\n",
              "      <td>s4</td>\n",
              "      <td>Movie</td>\n",
              "      <td>9</td>\n",
              "      <td>Shane Acker</td>\n",
              "      <td>Elijah Wood, John C. Reilly, Jennifer Connelly...</td>\n",
              "      <td>United States</td>\n",
              "      <td>November 16, 2017</td>\n",
              "      <td>2009</td>\n",
              "      <td>PG-13</td>\n",
              "      <td>80 min</td>\n",
              "      <td>Action &amp; Adventure, Independent Movies, Sci-Fi...</td>\n",
              "      <td>In a postapocalyptic world, rag-doll robots hi...</td>\n",
              "    </tr>\n",
              "    <tr>\n",
              "      <th>4</th>\n",
              "      <td>s5</td>\n",
              "      <td>Movie</td>\n",
              "      <td>21</td>\n",
              "      <td>Robert Luketic</td>\n",
              "      <td>Jim Sturgess, Kevin Spacey, Kate Bosworth, Aar...</td>\n",
              "      <td>United States</td>\n",
              "      <td>January 1, 2020</td>\n",
              "      <td>2008</td>\n",
              "      <td>PG-13</td>\n",
              "      <td>123 min</td>\n",
              "      <td>Dramas</td>\n",
              "      <td>A brilliant group of students become card-coun...</td>\n",
              "    </tr>\n",
              "    <tr>\n",
              "      <th>...</th>\n",
              "      <td>...</td>\n",
              "      <td>...</td>\n",
              "      <td>...</td>\n",
              "      <td>...</td>\n",
              "      <td>...</td>\n",
              "      <td>...</td>\n",
              "      <td>...</td>\n",
              "      <td>...</td>\n",
              "      <td>...</td>\n",
              "      <td>...</td>\n",
              "      <td>...</td>\n",
              "      <td>...</td>\n",
              "    </tr>\n",
              "    <tr>\n",
              "      <th>7782</th>\n",
              "      <td>s7783</td>\n",
              "      <td>Movie</td>\n",
              "      <td>Zozo</td>\n",
              "      <td>Josef Fares</td>\n",
              "      <td>Imad Creidi, Antoinette Turk, Elias Gergi, Car...</td>\n",
              "      <td>Sweden, Czech Republic, United Kingdom, Denmar...</td>\n",
              "      <td>October 19, 2020</td>\n",
              "      <td>2005</td>\n",
              "      <td>TV-MA</td>\n",
              "      <td>99 min</td>\n",
              "      <td>Dramas, International Movies</td>\n",
              "      <td>When Lebanon's Civil War deprives Zozo of his ...</td>\n",
              "    </tr>\n",
              "    <tr>\n",
              "      <th>7783</th>\n",
              "      <td>s7784</td>\n",
              "      <td>Movie</td>\n",
              "      <td>Zubaan</td>\n",
              "      <td>Mozez Singh</td>\n",
              "      <td>Vicky Kaushal, Sarah-Jane Dias, Raaghav Chanan...</td>\n",
              "      <td>India</td>\n",
              "      <td>March 2, 2019</td>\n",
              "      <td>2015</td>\n",
              "      <td>TV-14</td>\n",
              "      <td>111 min</td>\n",
              "      <td>Dramas, International Movies, Music &amp; Musicals</td>\n",
              "      <td>A scrappy but poor boy worms his way into a ty...</td>\n",
              "    </tr>\n",
              "    <tr>\n",
              "      <th>7784</th>\n",
              "      <td>s7785</td>\n",
              "      <td>Movie</td>\n",
              "      <td>Zulu Man in Japan</td>\n",
              "      <td>NaN</td>\n",
              "      <td>Nasty C</td>\n",
              "      <td>NaN</td>\n",
              "      <td>September 25, 2020</td>\n",
              "      <td>2019</td>\n",
              "      <td>TV-MA</td>\n",
              "      <td>44 min</td>\n",
              "      <td>Documentaries, International Movies, Music &amp; M...</td>\n",
              "      <td>In this documentary, South African rapper Nast...</td>\n",
              "    </tr>\n",
              "    <tr>\n",
              "      <th>7785</th>\n",
              "      <td>s7786</td>\n",
              "      <td>TV Show</td>\n",
              "      <td>Zumbo's Just Desserts</td>\n",
              "      <td>NaN</td>\n",
              "      <td>Adriano Zumbo, Rachel Khoo</td>\n",
              "      <td>Australia</td>\n",
              "      <td>October 31, 2020</td>\n",
              "      <td>2019</td>\n",
              "      <td>TV-PG</td>\n",
              "      <td>1 Season</td>\n",
              "      <td>International TV Shows, Reality TV</td>\n",
              "      <td>Dessert wizard Adriano Zumbo looks for the nex...</td>\n",
              "    </tr>\n",
              "    <tr>\n",
              "      <th>7786</th>\n",
              "      <td>s7787</td>\n",
              "      <td>Movie</td>\n",
              "      <td>ZZ TOP: THAT LITTLE OL' BAND FROM TEXAS</td>\n",
              "      <td>Sam Dunn</td>\n",
              "      <td>NaN</td>\n",
              "      <td>United Kingdom, Canada, United States</td>\n",
              "      <td>March 1, 2020</td>\n",
              "      <td>2019</td>\n",
              "      <td>TV-MA</td>\n",
              "      <td>90 min</td>\n",
              "      <td>Documentaries, Music &amp; Musicals</td>\n",
              "      <td>This documentary delves into the mystique behi...</td>\n",
              "    </tr>\n",
              "  </tbody>\n",
              "</table>\n",
              "<p>7787 rows × 12 columns</p>\n",
              "</div>"
            ],
            "text/plain": [
              "     show_id  ...                                        description\n",
              "0         s1  ...  In a future where the elite inhabit an island ...\n",
              "1         s2  ...  After a devastating earthquake hits Mexico Cit...\n",
              "2         s3  ...  When an army recruit is found dead, his fellow...\n",
              "3         s4  ...  In a postapocalyptic world, rag-doll robots hi...\n",
              "4         s5  ...  A brilliant group of students become card-coun...\n",
              "...      ...  ...                                                ...\n",
              "7782   s7783  ...  When Lebanon's Civil War deprives Zozo of his ...\n",
              "7783   s7784  ...  A scrappy but poor boy worms his way into a ty...\n",
              "7784   s7785  ...  In this documentary, South African rapper Nast...\n",
              "7785   s7786  ...  Dessert wizard Adriano Zumbo looks for the nex...\n",
              "7786   s7787  ...  This documentary delves into the mystique behi...\n",
              "\n",
              "[7787 rows x 12 columns]"
            ]
          },
          "metadata": {
            "tags": []
          },
          "execution_count": 36
        }
      ]
    },
    {
      "cell_type": "code",
      "metadata": {
        "trusted": true,
        "id": "th30f5Gpe6Yy"
      },
      "source": [
        "#Replace index with netflix database convention\n",
        "netflix_data.set_index('show_id',inplace=True)"
      ],
      "execution_count": 37,
      "outputs": []
    },
    {
      "cell_type": "code",
      "metadata": {
        "trusted": true,
        "id": "kR6GMeV0e6Yz"
      },
      "source": [
        "#Lets first tokenize each description using nltk and list comprehesion\n",
        "descriptions_tokenized = [nltk.word_tokenize(description) for description in netflix_data['description']]"
      ],
      "execution_count": 38,
      "outputs": []
    },
    {
      "cell_type": "code",
      "metadata": {
        "trusted": true,
        "colab": {
          "base_uri": "https://localhost:8080/"
        },
        "id": "EIe9k_yHe6Yz",
        "outputId": "6bf5ea91-c8db-440f-a2e3-3e3ba07ca1bc"
      },
      "source": [
        "#Check first description\n",
        "descriptions_tokenized[0]\n",
        "\n",
        "# Explanation\n",
        "# desriptions_tokenized[i][j]\n",
        "# i - index of description\n",
        "# j - index of word in chosen description\n",
        "# Example: desriptions_tokenized[14][5] - six word of fifteenth description (cause we numerate from 0)"
      ],
      "execution_count": 39,
      "outputs": [
        {
          "output_type": "execute_result",
          "data": {
            "text/plain": [
              "['In',\n",
              " 'a',\n",
              " 'future',\n",
              " 'where',\n",
              " 'the',\n",
              " 'elite',\n",
              " 'inhabit',\n",
              " 'an',\n",
              " 'island',\n",
              " 'paradise',\n",
              " 'far',\n",
              " 'from',\n",
              " 'the',\n",
              " 'crowded',\n",
              " 'slums',\n",
              " ',',\n",
              " 'you',\n",
              " 'get',\n",
              " 'one',\n",
              " 'chance',\n",
              " 'to',\n",
              " 'join',\n",
              " 'the',\n",
              " '3',\n",
              " '%',\n",
              " 'saved',\n",
              " 'from',\n",
              " 'squalor',\n",
              " '.']"
            ]
          },
          "metadata": {
            "tags": []
          },
          "execution_count": 39
        }
      ]
    },
    {
      "cell_type": "code",
      "metadata": {
        "trusted": true,
        "colab": {
          "base_uri": "https://localhost:8080/"
        },
        "id": "Lck1x7P2e6Yz",
        "outputId": "bcf5422e-13fe-47af-eda8-48fecba50ab8"
      },
      "source": [
        "#Lets give each word unique ID, so it will be easier later to use it\n",
        "#Easiest method is to create gensim dictionary which will contain all words without repetition\n",
        "from gensim import corpora\n",
        "dictionary = corpora.Dictionary(descriptions_tokenized)\n",
        "print(dictionary)"
      ],
      "execution_count": 40,
      "outputs": [
        {
          "output_type": "stream",
          "text": [
            "Dictionary(21381 unique tokens: ['%', ',', '.', '3', 'In']...)\n"
          ],
          "name": "stdout"
        }
      ]
    },
    {
      "cell_type": "code",
      "metadata": {
        "trusted": true,
        "colab": {
          "base_uri": "https://localhost:8080/"
        },
        "id": "df0Im0t0e6Yz",
        "outputId": "656dbaf3-9e4b-457c-db53-ad05606c6389"
      },
      "source": [
        "#We have 21381 uniqe words in out dictionary, lets check how many words we have in total. To do it we can multiplay rows length * columns length.\n",
        "#We need to do it for each row and then sum it up, becuase every row has diffrent number of words\n",
        "sum(len(row) for row in descriptions_tokenized)"
      ],
      "execution_count": 41,
      "outputs": [
        {
          "output_type": "execute_result",
          "data": {
            "text/plain": [
              "205846"
            ]
          },
          "metadata": {
            "tags": []
          },
          "execution_count": 41
        }
      ]
    },
    {
      "cell_type": "code",
      "metadata": {
        "trusted": true,
        "colab": {
          "base_uri": "https://localhost:8080/"
        },
        "id": "eg2W24rne6Y0",
        "outputId": "479b5d4b-06e3-4740-a377-0535b7310e98"
      },
      "source": [
        "#If the dictionary would be huge, we could decrease number of words by deleting these with low frequency (lets say these which appear only once)\n",
        "#Now we have ids for each word\n",
        "dictionary.token2id['island']"
      ],
      "execution_count": 42,
      "outputs": [
        {
          "output_type": "execute_result",
          "data": {
            "text/plain": [
              "15"
            ]
          },
          "metadata": {
            "tags": []
          },
          "execution_count": 42
        }
      ]
    },
    {
      "cell_type": "code",
      "metadata": {
        "trusted": true,
        "id": "JyE9RXuFe6Y0"
      },
      "source": [
        "#Now we can exchange all descriptions to numbers (their identifiers). It's called bag of words (bow).\n",
        "descriptions_bow = [dictionary.doc2bow(description) for description in descriptions_tokenized]"
      ],
      "execution_count": 43,
      "outputs": []
    },
    {
      "cell_type": "code",
      "metadata": {
        "trusted": true,
        "colab": {
          "base_uri": "https://localhost:8080/"
        },
        "id": "WHH3Db_ae6Y0",
        "outputId": "b266f926-ab34-4336-9ccf-91cbd352ac38"
      },
      "source": [
        "#First number in tuple is ID of word. Second number in tuple is frequency in document number 88\n",
        "descriptions_bow[89]"
      ],
      "execution_count": 44,
      "outputs": [
        {
          "output_type": "execute_result",
          "data": {
            "text/plain": [
              "[(1, 1),\n",
              " (2, 1),\n",
              " (5, 1),\n",
              " (6, 2),\n",
              " (23, 2),\n",
              " (52, 1),\n",
              " (57, 1),\n",
              " (90, 1),\n",
              " (100, 2),\n",
              " (161, 1),\n",
              " (174, 1),\n",
              " (348, 1),\n",
              " (423, 1),\n",
              " (431, 1),\n",
              " (440, 1),\n",
              " (612, 1),\n",
              " (964, 1),\n",
              " (1135, 1),\n",
              " (1136, 1),\n",
              " (1137, 1),\n",
              " (1138, 1),\n",
              " (1139, 1),\n",
              " (1140, 1),\n",
              " (1141, 1),\n",
              " (1142, 1),\n",
              " (1143, 1),\n",
              " (1144, 1),\n",
              " (1145, 1)]"
            ]
          },
          "metadata": {
            "tags": []
          },
          "execution_count": 44
        }
      ]
    },
    {
      "cell_type": "code",
      "metadata": {
        "trusted": true,
        "colab": {
          "base_uri": "https://localhost:8080/"
        },
        "id": "Xq6gq40Ge6Y1",
        "outputId": "672a43f7-705f-4c86-f0b9-cddf5999fbd0"
      },
      "source": [
        "#Now we can create model which will allow us to represent documents as vectors. We need that to search for similarities using math. \n",
        "#Lets try TFidf which uses frequency for transforming\n",
        "from gensim import models\n",
        "\n",
        "# Train the tfidf model \n",
        "tfidf = models.TfidfModel(descriptions_bow)\n",
        "\n",
        "# Transform the \"shoot enemies\" string to test how it works. First value is word ID and second one is tf-idf weight\n",
        "words = \"shoot enemies\".lower().split()\n",
        "print(tfidf[dictionary.doc2bow(words)])"
      ],
      "execution_count": 45,
      "outputs": [
        {
          "output_type": "stream",
          "text": [
            "[(2476, 0.5918280568737562), (18097, 0.8060642350936023)]\n"
          ],
          "name": "stdout"
        }
      ]
    },
    {
      "cell_type": "code",
      "metadata": {
        "trusted": true,
        "id": "6WsokFkwe6Y1"
      },
      "source": [
        "#Lets create spare matrix similarity\n",
        "from gensim import similarities\n",
        "\n",
        "index = similarities.SparseMatrixSimilarity(tfidf[descriptions_bow], num_features=dictionary.num_pos)"
      ],
      "execution_count": 46,
      "outputs": []
    },
    {
      "cell_type": "code",
      "metadata": {
        "trusted": true,
        "colab": {
          "base_uri": "https://localhost:8080/",
          "height": 128
        },
        "id": "HBRjcZTpe6Y1",
        "outputId": "d748ee10-033f-4d66-9032-90dc6beb2713"
      },
      "source": [
        "#Now we can use model to find similar descriptions! Lets test one of the descriptions from base. I will use La casa de papel tv series, lets find it by title to get show_id.\n",
        "netflix_data[netflix_data.title.str.find(\"La casa\") > -1]"
      ],
      "execution_count": 47,
      "outputs": [
        {
          "output_type": "execute_result",
          "data": {
            "text/html": [
              "<div>\n",
              "<style scoped>\n",
              "    .dataframe tbody tr th:only-of-type {\n",
              "        vertical-align: middle;\n",
              "    }\n",
              "\n",
              "    .dataframe tbody tr th {\n",
              "        vertical-align: top;\n",
              "    }\n",
              "\n",
              "    .dataframe thead th {\n",
              "        text-align: right;\n",
              "    }\n",
              "</style>\n",
              "<table border=\"1\" class=\"dataframe\">\n",
              "  <thead>\n",
              "    <tr style=\"text-align: right;\">\n",
              "      <th></th>\n",
              "      <th>type</th>\n",
              "      <th>title</th>\n",
              "      <th>director</th>\n",
              "      <th>cast</th>\n",
              "      <th>country</th>\n",
              "      <th>date_added</th>\n",
              "      <th>release_year</th>\n",
              "      <th>rating</th>\n",
              "      <th>duration</th>\n",
              "      <th>listed_in</th>\n",
              "      <th>description</th>\n",
              "    </tr>\n",
              "    <tr>\n",
              "      <th>show_id</th>\n",
              "      <th></th>\n",
              "      <th></th>\n",
              "      <th></th>\n",
              "      <th></th>\n",
              "      <th></th>\n",
              "      <th></th>\n",
              "      <th></th>\n",
              "      <th></th>\n",
              "      <th></th>\n",
              "      <th></th>\n",
              "      <th></th>\n",
              "    </tr>\n",
              "  </thead>\n",
              "  <tbody>\n",
              "    <tr>\n",
              "      <th>s3489</th>\n",
              "      <td>TV Show</td>\n",
              "      <td>La casa de papel</td>\n",
              "      <td>NaN</td>\n",
              "      <td>Úrsula Corberó, Itziar Ituño, Álvaro Morte, Pa...</td>\n",
              "      <td>Spain</td>\n",
              "      <td>April 3, 2020</td>\n",
              "      <td>2020</td>\n",
              "      <td>TV-MA</td>\n",
              "      <td>4 Seasons</td>\n",
              "      <td>Crime TV Shows, International TV Shows, Spanis...</td>\n",
              "      <td>Eight thieves take hostages and lock themselve...</td>\n",
              "    </tr>\n",
              "  </tbody>\n",
              "</table>\n",
              "</div>"
            ],
            "text/plain": [
              "            type  ...                                        description\n",
              "show_id           ...                                                   \n",
              "s3489    TV Show  ...  Eight thieves take hostages and lock themselve...\n",
              "\n",
              "[1 rows x 11 columns]"
            ]
          },
          "metadata": {
            "tags": []
          },
          "execution_count": 47
        }
      ]
    },
    {
      "cell_type": "code",
      "metadata": {
        "colab": {
          "base_uri": "https://localhost:8080/"
        },
        "id": "1HhD8wKhgA0-",
        "outputId": "68f78469-ef45-4436-b516-86dee5f8a2c6"
      },
      "source": [
        "descriptions_tokenized[3488]"
      ],
      "execution_count": 48,
      "outputs": [
        {
          "output_type": "execute_result",
          "data": {
            "text/plain": [
              "['Eight',\n",
              " 'thieves',\n",
              " 'take',\n",
              " 'hostages',\n",
              " 'and',\n",
              " 'lock',\n",
              " 'themselves',\n",
              " 'in',\n",
              " 'the',\n",
              " 'Royal',\n",
              " 'Mint',\n",
              " 'of',\n",
              " 'Spain',\n",
              " 'as',\n",
              " 'a',\n",
              " 'criminal',\n",
              " 'mastermind',\n",
              " 'manipulates',\n",
              " 'the',\n",
              " 'police',\n",
              " 'to',\n",
              " 'carry',\n",
              " 'out',\n",
              " 'his',\n",
              " 'plan',\n",
              " '.']"
            ]
          },
          "metadata": {
            "tags": []
          },
          "execution_count": 48
        }
      ]
    },
    {
      "cell_type": "code",
      "metadata": {
        "trusted": true,
        "colab": {
          "base_uri": "https://localhost:8080/"
        },
        "id": "UWVGnVV-e6Y1",
        "outputId": "14a64b17-c51f-4df5-f947-a8ee8f1ce6c0"
      },
      "source": [
        "descriptions_bow[3488]"
      ],
      "execution_count": 49,
      "outputs": [
        {
          "output_type": "execute_result",
          "data": {
            "text/plain": [
              "[(2, 1),\n",
              " (5, 1),\n",
              " (22, 2),\n",
              " (23, 1),\n",
              " (37, 1),\n",
              " (57, 1),\n",
              " (73, 1),\n",
              " (77, 1),\n",
              " (100, 1),\n",
              " (610, 1),\n",
              " (983, 1),\n",
              " (1097, 1),\n",
              " (1332, 1),\n",
              " (1536, 1),\n",
              " (1766, 1),\n",
              " (1991, 1),\n",
              " (2402, 1),\n",
              " (3614, 1),\n",
              " (4206, 1),\n",
              " (6918, 1),\n",
              " (8125, 1),\n",
              " (9307, 1),\n",
              " (13759, 1),\n",
              " (13760, 1),\n",
              " (13761, 1)]"
            ]
          },
          "metadata": {
            "tags": []
          },
          "execution_count": 49
        }
      ]
    },
    {
      "cell_type": "code",
      "metadata": {
        "trusted": true,
        "id": "H2q00QqVe6Y2"
      },
      "source": [
        "#Get query bag of words and tfidf model representation\n",
        "query_bow = descriptions_bow[3488]\n",
        "query_tfidf = tfidf[query_bow]"
      ],
      "execution_count": 50,
      "outputs": []
    },
    {
      "cell_type": "code",
      "metadata": {
        "id": "Q2fal0qig3FO"
      },
      "source": [
        "#Get similarity list\r\n",
        "sims = index[query_tfidf]"
      ],
      "execution_count": 51,
      "outputs": []
    },
    {
      "cell_type": "code",
      "metadata": {
        "colab": {
          "base_uri": "https://localhost:8080/"
        },
        "id": "iPxi6-8FiD6f",
        "outputId": "d42b3435-46a3-45d9-d875-14724edcedb6"
      },
      "source": [
        "#Lets sort them and check first 15 titles similar to La casa de papel\r\n",
        "sorted_similar = sorted(enumerate(sims), key=lambda x: x[1], reverse=True)\r\n",
        "for document_number, score in sorted_similar[:15]:\r\n",
        "    print(document_number, netflix_data.iloc[document_number].title, score)"
      ],
      "execution_count": 52,
      "outputs": [
        {
          "output_type": "stream",
          "text": [
            "3488 La casa de papel 1.0\n",
            "1134 Bullet Head 0.17674914\n",
            "7381 V.R. Troopers 0.16174424\n",
            "1453 Coin Heist 0.14132012\n",
            "6249 The Crew 0.12991296\n",
            "4870 Pizza, birra, faso 0.12717776\n",
            "4950 Power Rangers Time Force 0.12639105\n",
            "6307 The Do-Over 0.12385647\n",
            "1808 Don 2 0.12192322\n",
            "4799 Paul Blart: Mall Cop 0.11928776\n",
            "373 Albert Pinto Ko Gussa Kyun Aata Hai? 0.118616186\n",
            "3012 Inside Man: Most Wanted 0.114272796\n",
            "4150 Mission of Honor 0.108038306\n",
            "4453 New York Minute 0.10540801\n",
            "5000 Pukar 0.10424699\n"
          ],
          "name": "stdout"
        }
      ]
    },
    {
      "cell_type": "code",
      "metadata": {
        "colab": {
          "base_uri": "https://localhost:8080/"
        },
        "id": "G_5lpdGIjX-i",
        "outputId": "bd104ec4-f116-43f7-a1e5-3b7df1652162"
      },
      "source": [
        "#Lets check 3 highest scored films descriptions to check if its somehow similar to La casa de papel description. As you can see La casa de papel similarity is 1.0 because its equal to query.\r\n",
        "for document_number, score in sorted_similar[0:4]:\r\n",
        "   print(netflix_data.iloc[document_number].title)\r\n",
        "   print(netflix_data.iloc[document_number].description + \"\\n\")"
      ],
      "execution_count": 53,
      "outputs": [
        {
          "output_type": "stream",
          "text": [
            "La casa de papel\n",
            "Eight thieves take hostages and lock themselves in the Royal Mint of Spain as a criminal mastermind manipulates the police to carry out his plan.\n",
            "\n",
            "Bullet Head\n",
            "After a daring heist, three fugitives lock themselves in a warehouse hoping to evade the police, but find a worse threat as they fight to stay alive.\n",
            "\n",
            "V.R. Troopers\n",
            "Three friends who study martial arts find themselves defending humanity from a criminal mastermind and his invading army from another dimension.\n",
            "\n",
            "Coin Heist\n",
            "When a crisis threatens to destroy their high school, four teens hatch a daring plan to raise $10 million. Step one? Breaking into the U.S. Mint.\n",
            "\n"
          ],
          "name": "stdout"
        }
      ]
    },
    {
      "cell_type": "code",
      "metadata": {
        "id": "CwEJy8B5735U"
      },
      "source": [
        "# Doc2Vec model (propably too small dataset for this one to work good)\r\n",
        "from gensim.models.doc2vec import Doc2Vec, TaggedDocument\r\n",
        "doc_model = models.Doc2Vec(vector_size=50, min_count=2, epochs=500)"
      ],
      "execution_count": 112,
      "outputs": []
    },
    {
      "cell_type": "code",
      "metadata": {
        "id": "p5xSnJQv8n1Y"
      },
      "source": [
        "documents = [TaggedDocument(doc, [i]) for i, doc in enumerate(descriptions_tokenized)]\r\n",
        "doc_model.build_vocab(documents)"
      ],
      "execution_count": 113,
      "outputs": []
    },
    {
      "cell_type": "code",
      "metadata": {
        "id": "S5C848m_FVFG"
      },
      "source": [
        "doc_model.train(documents, total_examples=doc_model.corpus_count, epochs=500)"
      ],
      "execution_count": 114,
      "outputs": []
    },
    {
      "cell_type": "code",
      "metadata": {
        "id": "Yq1NmTUu9qrA"
      },
      "source": [
        "la_papel_vector = doc_model.infer_vector(descriptions_tokenized[3488])\r\n",
        "doc_sims = doc_model.docvecs.most_similar([la_papel_vector])"
      ],
      "execution_count": 115,
      "outputs": []
    },
    {
      "cell_type": "code",
      "metadata": {
        "colab": {
          "base_uri": "https://localhost:8080/"
        },
        "id": "TQPCaK3bAKjb",
        "outputId": "eec133bf-b0ea-4b56-d273-d955a942d14d"
      },
      "source": [
        "for document_number, score in doc_sims:\r\n",
        "    print(document_number, netflix_data.iloc[document_number].title, score)"
      ],
      "execution_count": 116,
      "outputs": [
        {
          "output_type": "stream",
          "text": [
            "3488 La casa de papel 0.9755862951278687\n",
            "4403 Narcoworld: Dope Stories 0.6559664011001587\n",
            "3267 K.O.3an Guo 0.638350248336792\n",
            "4546 NSU German History X 0.6172715425491333\n",
            "7016 The World Is Yours 0.6070820689201355\n",
            "1711 Designated Survivor 0.584574818611145\n",
            "1134 Bullet Head 0.581136167049408\n",
            "6657 The Memphis Belle: A Story of a\n",
            "Flying Fortress 0.5721739530563354\n",
            "654 Baadshaho 0.5694758892059326\n",
            "1054 Born in Gaza 0.5673355460166931\n"
          ],
          "name": "stdout"
        }
      ]
    },
    {
      "cell_type": "code",
      "metadata": {
        "colab": {
          "base_uri": "https://localhost:8080/"
        },
        "id": "6fEZcWJrDiED",
        "outputId": "09ce1d7c-19e2-4820-ae9f-4e07c414b0c8"
      },
      "source": [
        "for document_number, score in doc_sims[0:4]:\r\n",
        "   print(netflix_data.iloc[document_number].title)\r\n",
        "   print(netflix_data.iloc[document_number].description + \"\\n\")"
      ],
      "execution_count": 117,
      "outputs": [
        {
          "output_type": "stream",
          "text": [
            "La casa de papel\n",
            "Eight thieves take hostages and lock themselves in the Royal Mint of Spain as a criminal mastermind manipulates the police to carry out his plan.\n",
            "\n",
            "Narcoworld: Dope Stories\n",
            "Ride along as police officers and drug smugglers go toe-to-toe, trying to outwit each other in locales around the world.\n",
            "\n",
            "K.O.3an Guo\n",
            "In the Silver Dimension, Liu Bei, Guan Yu and Zhang Fei plan to enroll in an elite academy as sworn brothers, but KO One visitors derail the plan.\n",
            "\n",
            "NSU German History X\n",
            "After German reunification, the neo-Nazi National Socialist Underground begins a killing spree while cops fight an uphill battle to catch them.\n",
            "\n"
          ],
          "name": "stdout"
        }
      ]
    }
  ]
}